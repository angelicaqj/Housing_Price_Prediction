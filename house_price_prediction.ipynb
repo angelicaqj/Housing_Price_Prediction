{
 "cells": [
  {
   "cell_type": "code",
   "execution_count": 1,
   "metadata": {},
   "outputs": [],
   "source": [
    "## Housing Price Prediction"
   ]
  },
  {
   "cell_type": "code",
   "execution_count": 2,
   "metadata": {},
   "outputs": [],
   "source": [
    "# import libraries \n",
    "import pandas as pd\n",
    "import numpy as np\n",
    "import csv"
   ]
  },
  {
   "cell_type": "code",
   "execution_count": 3,
   "metadata": {},
   "outputs": [],
   "source": [
    "## Naive data processing: binarizing all fields"
   ]
  },
  {
   "cell_type": "code",
   "execution_count": 4,
   "metadata": {},
   "outputs": [],
   "source": [
    "# reading data from a csv file 'my_train.csv'\n",
    "with open('my_train.csv') as file:\n",
    "    \n",
    "    reader = csv.reader(file, delimiter = ',')\n",
    "      \n",
    "    # store the headers in a separate variable,\n",
    "    # move the reader object to point on the next row\n",
    "    headings = next(reader)\n",
    "      \n",
    "    # new_train list to store all rows\n",
    "    new_train = []\n",
    "    for row in reader:\n",
    "        new_train.append(row[:])"
   ]
  },
  {
   "cell_type": "code",
   "execution_count": 5,
   "metadata": {},
   "outputs": [],
   "source": [
    "## Training data Binarization with numpy - All fields "
   ]
  },
  {
   "cell_type": "code",
   "execution_count": 6,
   "metadata": {},
   "outputs": [
    {
     "data": {
      "text/plain": [
       "7227"
      ]
     },
     "execution_count": 6,
     "metadata": {},
     "output_type": "execute_result"
    }
   ],
   "source": [
    "mapping = {}\n",
    "new_data = []\n",
    "# data without id and target(SalePrice)\n",
    "train_data = [[value for i, value in enumerate(line) if i not in [0,80]] for line in new_train]\n",
    "\n",
    "# feature mapping\n",
    "for row in train_data: \n",
    "    new_row = []\n",
    "    for j, x in enumerate(row):\n",
    "        feature = (j, x) \n",
    "        if feature not in mapping:\n",
    "            mapping[feature] = len(mapping) # insert a new feature into the index\n",
    "        new_row.append(mapping[feature])\n",
    "    new_data.append(new_row) \n",
    "\n",
    "bin_train = np.zeros((len(new_train), len(mapping))) \n",
    "\n",
    "# translating to numpy\n",
    "for i, row in enumerate(new_data):\n",
    "    for x in row:\n",
    "        bin_train[i][x] = 1\n",
    "        \n",
    "train_data_bin = bin_train.astype('float')\n",
    "\n",
    "#Total features\n",
    "train_data_bin.shape[1] "
   ]
  },
  {
   "cell_type": "code",
   "execution_count": 7,
   "metadata": {},
   "outputs": [],
   "source": [
    "# reading data from a csv file 'my_dev.csv'\n",
    "with open('my_dev.csv') as file:\n",
    "    \n",
    "    reader = csv.reader(file, delimiter = ',')\n",
    "      \n",
    "    # store the headers in a separate variable\n",
    "    headings = next(reader)\n",
    "      \n",
    "    # new_dev list to store all rows\n",
    "    new_dev = []\n",
    "    for row in reader:\n",
    "        new_dev.append(row[:])"
   ]
  },
  {
   "cell_type": "code",
   "execution_count": 8,
   "metadata": {},
   "outputs": [],
   "source": [
    "## Dev data Binarization with numpy - All fields "
   ]
  },
  {
   "cell_type": "code",
   "execution_count": 9,
   "metadata": {},
   "outputs": [],
   "source": [
    "new_data = []\n",
    "# data without id and target(SalePrice)\n",
    "dev_data = [[value for i, value in enumerate(line) if i not in [0,80]] for line in new_dev]\n",
    "\n",
    "# feature mapping\n",
    "for row in dev_data: \n",
    "    new_row = []\n",
    "    for j, x in enumerate(row):\n",
    "        feature = (j, x) \n",
    "        if feature in mapping:\n",
    "            new_row.append(mapping[feature])\n",
    "    new_data.append(new_row)\n",
    "\n",
    "bin_dev = np.zeros((len(new_dev), len(mapping))) \n",
    "\n",
    "# translating to numpy\n",
    "for i, row in enumerate(new_data):\n",
    "    for x in row:\n",
    "        bin_dev[i][x] = 1\n",
    "        \n",
    "dev_data_bin = bin_dev.astype('float')\n",
    "\n",
    "#dev_data_bin.shape"
   ]
  },
  {
   "cell_type": "code",
   "execution_count": 10,
   "metadata": {},
   "outputs": [],
   "source": [
    "## take the logarithm for the y field (SalePrice)"
   ]
  },
  {
   "cell_type": "code",
   "execution_count": 11,
   "metadata": {},
   "outputs": [
    {
     "data": {
      "text/plain": [
       "(1314,)"
      ]
     },
     "execution_count": 11,
     "metadata": {},
     "output_type": "execute_result"
    }
   ],
   "source": [
    "from math import *\n",
    "\n",
    "train_labels = [[log(float(value)) for idx, value in enumerate(line) if idx in [80]] for line in new_train]\n",
    "train_label = [val for sublist in train_labels for val in sublist]\n",
    "\n",
    "train_target = np.array(train_label)\n",
    "train_target.shape"
   ]
  },
  {
   "cell_type": "code",
   "execution_count": 12,
   "metadata": {},
   "outputs": [
    {
     "data": {
      "text/plain": [
       "(146,)"
      ]
     },
     "execution_count": 12,
     "metadata": {},
     "output_type": "execute_result"
    }
   ],
   "source": [
    "dev_labels = [[log(float(value)) for idx, value in enumerate(line) if idx in [80]] for line in new_dev]\n",
    "dev_label = [val for sublist in dev_labels for val in sublist]\n",
    "\n",
    "dev_target = np.array(dev_label)\n",
    "dev_target.shape"
   ]
  },
  {
   "cell_type": "code",
   "execution_count": 13,
   "metadata": {},
   "outputs": [],
   "source": [
    "## Root Mean Squared Log Error (RMSLE)"
   ]
  },
  {
   "cell_type": "code",
   "execution_count": 14,
   "metadata": {},
   "outputs": [],
   "source": [
    "from sklearn.linear_model import LinearRegression\n",
    "\n",
    "X = train_data_bin\n",
    "y = train_label\n",
    "\n",
    "# train the regression model to predict the logarithm of housing prices - log(y)\n",
    "reg = LinearRegression()\n",
    "reg_mod = reg.fit(X,y)\n",
    "y_pred = reg_mod.predict(dev_data_bin)"
   ]
  },
  {
   "cell_type": "code",
   "execution_count": 15,
   "metadata": {},
   "outputs": [
    {
     "data": {
      "text/plain": [
       "0.15436305811398643"
      ]
     },
     "execution_count": 15,
     "metadata": {},
     "output_type": "execute_result"
    }
   ],
   "source": [
    "from sklearn.metrics import mean_squared_error\n",
    "\n",
    "mean_squared_error(dev_target, y_pred, squared = False)"
   ]
  },
  {
   "cell_type": "code",
   "execution_count": 16,
   "metadata": {},
   "outputs": [
    {
     "data": {
      "text/plain": [
       "1.161834242728283"
      ]
     },
     "execution_count": 16,
     "metadata": {},
     "output_type": "execute_result"
    }
   ],
   "source": [
    "exp(0.15)\n",
    "# e^0.15 = 1.16, it means in average, the predicted price is 1.16 times of the actual price."
   ]
  },
  {
   "cell_type": "code",
   "execution_count": 17,
   "metadata": {},
   "outputs": [],
   "source": [
    "## Predict on test.csv "
   ]
  },
  {
   "cell_type": "code",
   "execution_count": 18,
   "metadata": {},
   "outputs": [],
   "source": [
    "# reading data from a csv file 'test.csv'\n",
    "with open('test.csv') as file:\n",
    "    \n",
    "    reader = csv.reader(file, delimiter = ',')\n",
    "      \n",
    "    # store the headers in a separate variable,\n",
    "    headings = next(reader)\n",
    "      \n",
    "    # new_test list to store all rows\n",
    "    new_test = []\n",
    "    for row in reader:\n",
    "        new_test.append(row[:])"
   ]
  },
  {
   "cell_type": "code",
   "execution_count": 19,
   "metadata": {},
   "outputs": [],
   "source": [
    "# Binarization - test data\n",
    "\n",
    "new_data = []\n",
    "\n",
    "test_data = [[value for i, value in enumerate(line) if i not in [0]] for line in new_test]\n",
    "\n",
    "# feature mapping\n",
    "for row in test_data: \n",
    "    new_row = []\n",
    "    for j,x in enumerate(row):\n",
    "        feature = (j,x) \n",
    "        if feature in mapping:\n",
    "            new_row.append(mapping[feature])\n",
    "    new_data.append(new_row)\n",
    "\n",
    "bin_test = np.zeros((len(new_test), len(mapping))) \n",
    "\n",
    "\n",
    "for i, row in enumerate(new_data):\n",
    "    for x in row:\n",
    "        bin_test[i][x] = 1\n",
    "        \n",
    "test_data_bin = bin_test.astype('float')"
   ]
  },
  {
   "cell_type": "code",
   "execution_count": 20,
   "metadata": {},
   "outputs": [
    {
     "data": {
      "text/plain": [
       "array([124265.49879929, 142763.3743117 , 181297.83739769, ...,\n",
       "       150612.49308502, 116702.81848392, 229859.46950773])"
      ]
     },
     "execution_count": 20,
     "metadata": {},
     "output_type": "execute_result"
    }
   ],
   "source": [
    "# linear regression model and predictions\n",
    "\n",
    "y_pred_test = reg_mod.predict(test_data_bin)\n",
    "# we need to exponentiate the prediction to get the real values \n",
    "final_pred = np.exp(y_pred_test)\n",
    "final_pred"
   ]
  },
  {
   "cell_type": "code",
   "execution_count": 21,
   "metadata": {},
   "outputs": [],
   "source": [
    "# submission file to kaggle\n",
    "\n",
    "numbers = np.array(new_test)[:,0]\n",
    "\n",
    "submission = pd.read_csv('test_submission.csv')\n",
    "output = pd.DataFrame({'Id': numbers, 'SalePrice': final_pred})\n",
    "output.to_csv('submission1.csv', index=False)"
   ]
  },
  {
   "cell_type": "code",
   "execution_count": 22,
   "metadata": {},
   "outputs": [],
   "source": [
    "# My score(RMSLE error) after submission is 0.16031"
   ]
  },
  {
   "cell_type": "code",
   "execution_count": 23,
   "metadata": {},
   "outputs": [],
   "source": [
    "## Now let's try Smarter binarization: Only binarizing categorical features"
   ]
  },
  {
   "cell_type": "code",
   "execution_count": 24,
   "metadata": {},
   "outputs": [],
   "source": [
    "# read the files with pandas\n",
    "my_train = pd.read_csv(\"my_train.csv\")\n",
    "my_dev = pd.read_csv(\"my_dev.csv\")\n",
    "my_test = pd.read_csv(\"test.csv\")"
   ]
  },
  {
   "cell_type": "code",
   "execution_count": 25,
   "metadata": {},
   "outputs": [],
   "source": [
    "# Train and Dev Binarization with pandas\n",
    "\n",
    "concatenate_all = pd.concat((my_train, my_dev))\n",
    "#concatenate_all.shape\n",
    "\n",
    "# drop column do not need for categorical binariation & replacing missing values with 0\n",
    "data_drop = concatenate_all.drop([\"SalePrice\", \"Id\"], axis = 1).fillna(0)\n",
    "data_cat_bin = pd.get_dummies(data_drop) #all binarization\n",
    "\n",
    "bin_train = data_cat_bin.head(1314) \n",
    "bin_dev = data_cat_bin.tail(146)"
   ]
  },
  {
   "cell_type": "code",
   "execution_count": 26,
   "metadata": {},
   "outputs": [
    {
     "data": {
      "text/plain": [
       "0.12449790838380112"
      ]
     },
     "execution_count": 26,
     "metadata": {},
     "output_type": "execute_result"
    }
   ],
   "source": [
    "# linear regression - RMSLE Error \n",
    "\n",
    "X = bin_train\n",
    "y = train_label\n",
    "\n",
    "reg = LinearRegression()\n",
    "reg_mod = reg.fit(X,y)\n",
    "y_pred = reg_mod.predict(bin_dev)\n",
    "\n",
    "mean_squared_error(dev_target, y_pred, squared = False)"
   ]
  },
  {
   "cell_type": "code",
   "execution_count": 27,
   "metadata": {},
   "outputs": [],
   "source": [
    "# Test Binarization with pandas - Only categorical features\n",
    "\n",
    "concatenate_test = pd.concat((my_train, my_test))\n",
    "\n",
    "data_drop_t = concatenate_test.drop([\"SalePrice\", \"Id\"], axis = 1).fillna(0)\n",
    "data_cat_bin = pd.get_dummies(data_drop_t)\n",
    "\n",
    "bin_train_t = data_cat_bin.head(1314)\n",
    "\n",
    "bin_test = data_cat_bin.tail(1459)"
   ]
  },
  {
   "cell_type": "code",
   "execution_count": 28,
   "metadata": {},
   "outputs": [
    {
     "data": {
      "text/plain": [
       "array([121136.7609415 , 167899.24212243, 182402.83579875, ...,\n",
       "       167361.47596195, 113077.67404363, 216829.92834187])"
      ]
     },
     "execution_count": 28,
     "metadata": {},
     "output_type": "execute_result"
    }
   ],
   "source": [
    "# linear regression - RMSLE Error for testing\n",
    "\n",
    "X = bin_train_t\n",
    "y = train_label\n",
    "\n",
    "reg = LinearRegression()\n",
    "reg_mod = reg.fit(X,y)\n",
    "\n",
    "y_pred = reg_mod.predict(bin_test)\n",
    "final_pred = np.exp(y_pred)\n",
    "final_pred"
   ]
  },
  {
   "cell_type": "code",
   "execution_count": 29,
   "metadata": {},
   "outputs": [],
   "source": [
    "# second test submision file to kaggle\n",
    "\n",
    "numbers = np.array(new_test)[:,0]\n",
    "\n",
    "submission = pd.read_csv('test_submission.csv')\n",
    "output = pd.DataFrame({'Id': numbers, 'SalePrice': final_pred})\n",
    "output.to_csv('submission2.csv', index=False)"
   ]
  },
  {
   "cell_type": "code",
   "execution_count": 30,
   "metadata": {},
   "outputs": [],
   "source": [
    "# My score(RMSLE error) with the smarter binarization after submission is 0.15304. \n",
    "# It is better than the naive binarization to predict housing sale price."
   ]
  },
  {
   "cell_type": "code",
   "execution_count": null,
   "metadata": {},
   "outputs": [],
   "source": []
  }
 ],
 "metadata": {
  "kernelspec": {
   "display_name": "Python 3",
   "language": "python",
   "name": "python3"
  },
  "language_info": {
   "codemirror_mode": {
    "name": "ipython",
    "version": 3
   },
   "file_extension": ".py",
   "mimetype": "text/x-python",
   "name": "python",
   "nbconvert_exporter": "python",
   "pygments_lexer": "ipython3",
   "version": "3.9.5"
  }
 },
 "nbformat": 4,
 "nbformat_minor": 4
}
